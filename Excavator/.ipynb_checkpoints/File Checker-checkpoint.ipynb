{
 "cells": [
  {
   "cell_type": "code",
   "execution_count": 3,
   "id": "66d1c187",
   "metadata": {},
   "outputs": [],
   "source": [
    "#import packages\n",
    "import os\n",
    "import re\n",
    "import pandas as pd\n",
    "import numpy as np\n",
    "import matplotlib.pyplot as plt\n",
    "from ipywidgets import interact, widgets, Output\n",
    "from IPython.display import display\n",
    "from IPython.display import clear_output\n"
   ]
  },
  {
   "cell_type": "code",
   "execution_count": 4,
   "id": "74539390",
   "metadata": {},
   "outputs": [
    {
     "data": {
      "application/vnd.jupyter.widget-view+json": {
       "model_id": "1e2c975b7f63462eaa18f870af19dba0",
       "version_major": 2,
       "version_minor": 0
      },
      "text/plain": [
       "VBox(children=(Text(value='', description='Directory Path', placeholder='Paste Directory Path here'), Button(d…"
      ]
     },
     "metadata": {},
     "output_type": "display_data"
    }
   ],
   "source": [
    "#select directory to check\n",
    "directory = widgets.Text(\n",
    "    value='',\n",
    "    placeholder='Paste Directory Path here',\n",
    "    description='Directory Path',\n",
    "    disabled=False\n",
    ")\n",
    "\n",
    "excavate = widgets.Button(description=\"Excavate\",disabled=True,tooltip=\"enabled upon valid path request\")\n",
    "\n",
    "file_dict = {}\n",
    "\n",
    "#go through directory and find all files with relevant filetypes\n",
    "def excavate_directory(b):\n",
    "    print(\"Excavating Directory...\")\n",
    "    files = os.walk(directory.value)\n",
    "    file_lib = {}\n",
    "    for walk_output in files:\n",
    "        for file in walk_output[-1]:\n",
    "            extension=((file.split(\".\")[-1]))\n",
    "            file_name=(''.join(file.split(\".\")[:-1]))\n",
    "            if extension in file_lib:\n",
    "                file_lib[extension].append(file_name)\n",
    "            else:\n",
    "                file_lib[extension] = [file_name]\n",
    "    ext_type = []\n",
    "    amount_ext = []\n",
    "    for x, y in file_lib.items(): \n",
    "        ext_type.append(x)\n",
    "        amount_ext.append(len(y))\n",
    "        print(\"File type:\"+str(x)+\" has \"+str(len(y))+ \" items.\")\n",
    "\n",
    "    \n",
    "        \n",
    "#Ensure that the path entered is valid. If not valid, prevent button click\n",
    "def validate(*args):\n",
    "    try:\n",
    "        if os.path.exists((directory.value)):\n",
    "            print(\"Valid path entered.\")\n",
    "            excavate.disabled = False\n",
    "        else:\n",
    "            print(\"Path not found. Please enter a valid path.\")\n",
    "            excavate.disabled = True\n",
    "    except NameError:\n",
    "        print(\"Path not found. Please enter a valid path.\")\n",
    "        excavate.disabled = True\n",
    "        \n",
    "directory.observe(validate,'value')\n",
    "excavate.on_click(excavate_directory)\n",
    "path_view = widgets.VBox([directory,excavate])\n",
    "display(path_view)"
   ]
  },
  {
   "cell_type": "code",
   "execution_count": null,
   "id": "562b1282",
   "metadata": {},
   "outputs": [],
   "source": []
  }
 ],
 "metadata": {
  "kernelspec": {
   "display_name": "Python 3",
   "language": "python",
   "name": "python3"
  },
  "language_info": {
   "codemirror_mode": {
    "name": "ipython",
    "version": 3
   },
   "file_extension": ".py",
   "mimetype": "text/x-python",
   "name": "python",
   "nbconvert_exporter": "python",
   "pygments_lexer": "ipython3",
   "version": "3.8.8"
  }
 },
 "nbformat": 4,
 "nbformat_minor": 5
}
